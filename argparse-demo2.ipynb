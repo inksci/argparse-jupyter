{
 "cells": [
  {
   "cell_type": "code",
   "execution_count": null,
   "metadata": {
    "collapsed": true
   },
   "outputs": [],
   "source": [
    "# Python 2"
   ]
  },
  {
   "cell_type": "code",
   "execution_count": 1,
   "metadata": {},
   "outputs": [
    {
     "name": "stdout",
     "output_type": "stream",
     "text": [
      "['ink', 'sci']\n"
     ]
    }
   ],
   "source": [
    "# you must use this, I think in jupyter, if you want to use \"argparse\"\n",
    "\n",
    "import sys\n",
    "sys.argv = \"ink sci\".split() # if there are 2 arguments, please add something like this: parser.add_argument( \"inksci\" )\n",
    "print(sys.argv)"
   ]
  },
  {
   "cell_type": "code",
   "execution_count": 2,
   "metadata": {
    "collapsed": true
   },
   "outputs": [],
   "source": [
    "import argparse"
   ]
  },
  {
   "cell_type": "code",
   "execution_count": 3,
   "metadata": {
    "collapsed": true
   },
   "outputs": [],
   "source": [
    "parser = argparse.ArgumentParser(description='PyTorch REINFORCE example')\n",
    "\n",
    "parser.add_argument( \"inksci\" ) # if there are 2 arguments\n",
    "\n",
    "parser.add_argument('--algo', default='NAF',\n",
    "                    help='algorithm to use: DDPG | NAF')\n",
    "parser.add_argument('--env-name', default=\"HalfCheetah-v2\",\n",
    "                    help='name of the environment to run')\n",
    "parser.add_argument('--gamma', type=float, default=0.99, metavar='G',\n",
    "                    help='discount factor for reward (default: 0.99)')\n",
    "parser.add_argument('--tau', type=float, default=0.001, metavar='G',\n",
    "                    help='discount factor for model (default: 0.001)')\n",
    "parser.add_argument('--ou_noise', type=bool, default=True)\n",
    "parser.add_argument('--param_noise', type=bool, default=False)\n",
    "parser.add_argument('--noise_scale', type=float, default=0.3, metavar='G',\n",
    "                    help='initial noise scale (default: 0.3)')\n",
    "parser.add_argument('--final_noise_scale', type=float, default=0.3, metavar='G',\n",
    "                    help='final noise scale (default: 0.3)')\n",
    "parser.add_argument('--exploration_end', type=int, default=100, metavar='N',\n",
    "                    help='number of episodes with noise (default: 100)')\n",
    "parser.add_argument('--seed', type=int, default=4, metavar='N',\n",
    "                    help='random seed (default: 4)')\n",
    "parser.add_argument('--batch_size', type=int, default=128, metavar='N',\n",
    "                    help='batch size (default: 128)')\n",
    "parser.add_argument('--num_steps', type=int, default=1000, metavar='N',\n",
    "                    help='max episode length (default: 1000)')\n",
    "parser.add_argument('--num_episodes', type=int, default=1000, metavar='N',\n",
    "                    help='number of episodes (default: 1000)')\n",
    "parser.add_argument('--hidden_size', type=int, default=128, metavar='N',\n",
    "                    help='number of episodes (default: 128)')\n",
    "parser.add_argument('--updates_per_step', type=int, default=5, metavar='N',\n",
    "                    help='model updates per simulator step (default: 5)')\n",
    "parser.add_argument('--replay_size', type=int, default=1000000, metavar='N',\n",
    "                    help='size of replay buffer (default: 1000000)')\n",
    "args = parser.parse_args()"
   ]
  },
  {
   "cell_type": "code",
   "execution_count": 4,
   "metadata": {},
   "outputs": [
    {
     "data": {
      "text/plain": [
       "1000000"
      ]
     },
     "execution_count": 4,
     "metadata": {},
     "output_type": "execute_result"
    }
   ],
   "source": [
    "args.replay_size"
   ]
  },
  {
   "cell_type": "code",
   "execution_count": null,
   "metadata": {
    "collapsed": true
   },
   "outputs": [],
   "source": []
  }
 ],
 "metadata": {
  "kernelspec": {
   "display_name": "Python 2",
   "language": "python",
   "name": "python2"
  },
  "language_info": {
   "codemirror_mode": {
    "name": "ipython",
    "version": 2
   },
   "file_extension": ".py",
   "mimetype": "text/x-python",
   "name": "python",
   "nbconvert_exporter": "python",
   "pygments_lexer": "ipython2",
   "version": "2.7.13"
  }
 },
 "nbformat": 4,
 "nbformat_minor": 2
}
